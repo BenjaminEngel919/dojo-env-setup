{
 "cells": [
  {
   "attachments": {},
   "cell_type": "markdown",
   "metadata": {},
   "source": [
    "# Make Requirements.txt File and Conda Create Commands for Dojo-Env"
   ]
  },
  {
   "attachments": {},
   "cell_type": "markdown",
   "metadata": {},
   "source": [
    "- 04/13/23\n"
   ]
  },
  {
   "attachments": {},
   "cell_type": "markdown",
   "metadata": {},
   "source": [
    "## Requirements"
   ]
  },
  {
   "attachments": {},
   "cell_type": "markdown",
   "metadata": {},
   "source": [
    "- Change the packages included in the code cell below.\n",
    "- it will save the reqs as \"requirements-from-notebook.txt\""
   ]
  },
  {
   "cell_type": "code",
   "execution_count": 17,
   "metadata": {},
   "outputs": [],
   "source": [
    "REQS_FNAME_OUT = \"requirements-from-notebook.txt\"\n",
    "ENV_NAME = 'dojo-env-nlp'"
   ]
  },
  {
   "cell_type": "code",
   "execution_count": 29,
   "metadata": {},
   "outputs": [],
   "source": [
    "## MAKING THE REQUIREMENTS FILE\n",
    "requirements = \"\"\"jupyter\n",
    "scikit-learn==1.2.2\n",
    "pandas==1.5.3\n",
    "\n",
    "scipy==1.10.1\n",
    "matplotlib==3.7.1\n",
    "seaborn==0.12.2\n",
    "plotly==5.13.1\n",
    "\n",
    "pmdarima==2.0.3\n",
    "statsmodels==0.13.5\n",
    "pymysql==1.0.3\n",
    "\n",
    "sqlalchemy==2.0.9\n",
    "\"sqlalchemy-utils<=0.41.0\"\n",
    "conda-forge::shap==0.41.0\n",
    "conda-forge::imbalanced-learn==0.10.1\n",
    "lime\n",
    "xgboost=='1.7.*'\n",
    "pandas-datareader==0.10.0\n",
    "# dython\n",
    "beautifulsoup4\n",
    "lxml\n",
    "conda-forge::lightgbm==3.3.5\n",
    "\n",
    "# conda-forge::missingno\n",
    "conda-forge::tabulate\n",
    "numexpr\n",
    "openpyxl\n",
    "\n",
    "html5lib\n",
    "conda-forge::nbdime\n",
    "conda-forge::xlsxwriter\n",
    "conda-forge::dataframe_image\n",
    "\n",
    "nltk==3.8.1\n",
    "wordcloud==1.8.2.2\n",
    "gensim==4.3.1\n",
    "\"\"\"\n",
    "\n",
    "with open(REQS_FNAME_OUT,\"w\") as f:\n",
    "\tf.write(requirements)\n"
   ]
  },
  {
   "cell_type": "code",
   "execution_count": 30,
   "metadata": {},
   "outputs": [
    {
     "data": {
      "text/plain": [
       "['jupyter\\n',\n",
       " 'scikit-learn==1.2.2\\n',\n",
       " 'pandas==1.5.3\\n',\n",
       " '\\n',\n",
       " 'scipy==1.10.1\\n',\n",
       " 'matplotlib==3.7.1\\n',\n",
       " 'seaborn==0.12.2\\n',\n",
       " 'plotly==5.13.1\\n',\n",
       " '\\n',\n",
       " 'pmdarima==2.0.3\\n',\n",
       " 'statsmodels==0.13.5\\n',\n",
       " 'pymysql==1.0.3\\n',\n",
       " '\\n',\n",
       " 'sqlalchemy==2.0.9\\n',\n",
       " '\"sqlalchemy-utils<=0.41.0\"\\n',\n",
       " 'conda-forge::shap==0.41.0\\n',\n",
       " 'conda-forge::imbalanced-learn==0.10.1\\n',\n",
       " 'lime\\n',\n",
       " \"xgboost=='1.7.*'\\n\",\n",
       " 'pandas-datareader==0.10.0\\n',\n",
       " '# dython\\n',\n",
       " 'beautifulsoup4\\n',\n",
       " 'lxml\\n',\n",
       " 'conda-forge::lightgbm==3.3.5\\n',\n",
       " '\\n',\n",
       " '# conda-forge::missingno\\n',\n",
       " 'conda-forge::tabulate\\n',\n",
       " 'numexpr\\n',\n",
       " 'openpyxl\\n',\n",
       " '\\n',\n",
       " 'html5lib\\n',\n",
       " 'conda-forge::nbdime\\n',\n",
       " 'conda-forge::xlsxwriter\\n',\n",
       " 'conda-forge::dataframe_image\\n',\n",
       " '\\n',\n",
       " 'nltk==3.8.1\\n',\n",
       " 'wordcloud==1.8.2.2\\n',\n",
       " 'gensim==4.3.1\\n']"
      ]
     },
     "execution_count": 30,
     "metadata": {},
     "output_type": "execute_result"
    }
   ],
   "source": [
    "# SPECIFY FILE WITH REQUIREMENTS\n",
    "# REQS_FILE = 'requirements-py39.txt'\n",
    "REQS_FILE = REQS_FNAME_OUT#\"requirements-04-2023.txt\"\n",
    "with open(REQS_FILE) as f:\n",
    "\tpkgs = f.readlines()\n",
    "pkgs"
   ]
  },
  {
   "cell_type": "code",
   "execution_count": 31,
   "metadata": {},
   "outputs": [
    {
     "data": {
      "text/plain": [
       "'jupyter\\n\\nscikit-learn==1.2.2\\n\\npandas==1.5.3\\n\\n\\n\\nscipy==1.10.1\\n\\nmatplotlib==3.7.1\\n\\nseaborn==0.12.2\\n\\nplotly==5.13.1\\n\\n\\n\\npmdarima==2.0.3\\n\\nstatsmodels==0.13.5\\n\\npymysql==1.0.3\\n\\n\\n\\nsqlalchemy==2.0.9\\n\\n\"sqlalchemy-utils<=0.41.0\"\\n\\nconda-forge::shap==0.41.0\\n\\nconda-forge::imbalanced-learn==0.10.1\\n\\nlime\\n\\nxgboost==\\'1.7.*\\'\\n\\npandas-datareader==0.10.0\\n\\nbeautifulsoup4\\n\\nlxml\\n\\nconda-forge::lightgbm==3.3.5\\n\\n\\n\\nconda-forge::tabulate\\n\\nnumexpr\\n\\nopenpyxl\\n\\n\\n\\nhtml5lib\\n\\nconda-forge::nbdime\\n\\nconda-forge::xlsxwriter\\n\\nconda-forge::dataframe_image\\n\\n\\n\\nnltk==3.8.1\\n\\nwordcloud==1.8.2.2\\n\\ngensim==4.3.1\\n'"
      ]
     },
     "execution_count": 31,
     "metadata": {},
     "output_type": "execute_result"
    }
   ],
   "source": [
    "real_pkgs = [p for p in pkgs if p.startswith(\"#\")==False]\n",
    "pkgs = '\\n'.join(real_pkgs)\n",
    "pkgs"
   ]
  },
  {
   "cell_type": "code",
   "execution_count": 32,
   "metadata": {},
   "outputs": [
    {
     "name": "stdout",
     "output_type": "stream",
     "text": [
      "conda create -n dojo-env-nlp python=3.9 jupyter  scikit-learn==1.2.2  pandas==1.5.3    scipy==1.10.1  matplotlib==3.7.1  seaborn==0.12.2  plotly==5.13.1    pmdarima==2.0.3  statsmodels==0.13.5  pymysql==1.0.3    sqlalchemy==2.0.9  \"sqlalchemy-utils<=0.41.0\"  conda-forge::shap==0.41.0  conda-forge::imbalanced-learn==0.10.1  lime  xgboost=='1.7.*'  pandas-datareader==0.10.0  beautifulsoup4  lxml  conda-forge::lightgbm==3.3.5    conda-forge::tabulate  numexpr  openpyxl    html5lib  conda-forge::nbdime  conda-forge::xlsxwriter  conda-forge::dataframe_image    nltk==3.8.1  wordcloud==1.8.2.2  gensim==4.3.1 \n"
     ]
    }
   ],
   "source": [
    "# Code from make_conda_create_commands.py\n",
    "import os\n",
    "command =f\"conda create -n {ENV_NAME} python=3.9 \"\n",
    "command+= pkgs.replace('\\n',' ')\n",
    "print(command)"
   ]
  },
  {
   "attachments": {},
   "cell_type": "markdown",
   "metadata": {},
   "source": [
    "- Copy and paste the command displayed above into your terminal."
   ]
  },
  {
   "cell_type": "code",
   "execution_count": 33,
   "metadata": {},
   "outputs": [
    {
     "name": "stdout",
     "output_type": "stream",
     "text": [
      "\n",
      "\n",
      "conda activate dojo-env-nlp\n",
      "python -m ipykernel install --user --name dojo-env-nlp --display-name \"Python (dojo-env-nlp)\"\n",
      "\n",
      "\n",
      "\n"
     ]
    }
   ],
   "source": [
    "# Conda activate commands\n",
    "activate = f\"\"\"\\n\\nconda activate {ENV_NAME}\n",
    "python -m ipykernel install --user --name {ENV_NAME} --display-name \"Python ({ENV_NAME})\"\\n\\n\n",
    "\"\"\"\n",
    "print(activate)\n"
   ]
  },
  {
   "cell_type": "code",
   "execution_count": 34,
   "metadata": {},
   "outputs": [
    {
     "name": "stdout",
     "output_type": "stream",
     "text": [
      "pip install jupyter_contrib_nbextensions\n",
      "jupyter contrib nbextension install --user\n",
      "\n",
      "\n",
      "\n"
     ]
    }
   ],
   "source": [
    "# nbextensions command\n",
    "pip_reqs = \"\"\"pip install jupyter_contrib_nbextensions\n",
    "jupyter contrib nbextension install --user\\n\\n\n",
    "\"\"\"\n",
    "print(pip_reqs)"
   ]
  },
  {
   "cell_type": "code",
   "execution_count": 37,
   "metadata": {},
   "outputs": [
    {
     "name": "stdout",
     "output_type": "stream",
     "text": [
      "## MAC COMPUTERS - APPLE CHIP:\n",
      "conda create -n dojo-env-nlp python=3.9 jupyter  scikit-learn==1.2.2  pandas==1.5.3    scipy==1.10.1  matplotlib==3.7.1  seaborn==0.12.2  plotly==5.13.1    pmdarima==2.0.3  statsmodels==0.13.5  pymysql==1.0.3    sqlalchemy==2.0.9  \"sqlalchemy-utils<=0.41.0\"  conda-forge::shap==0.41.0  conda-forge::imbalanced-learn==0.10.1  lime  xgboost=='1.7.*'  pandas-datareader==0.10.0  beautifulsoup4  lxml  conda-forge::lightgbm==3.3.5    conda-forge::tabulate  numexpr  openpyxl    html5lib  conda-forge::nbdime  conda-forge::xlsxwriter  conda-forge::dataframe_image    nltk==3.8.1  wordcloud==1.8.2.2  gensim==4.3.1 \n",
      "\n",
      "conda activate dojo-env-nlp\n",
      "python -m ipykernel install --user --name dojo-env-nlp --display-name \"Python (dojo-env-nlp)\"\n",
      "\n",
      "\n",
      "pip install jupyter_contrib_nbextensions\n",
      "jupyter contrib nbextension install --user\n",
      "\n",
      "\n",
      "pip install tensorflow-macos\n",
      "pip install tensorflow-metal\n",
      "\n"
     ]
    }
   ],
   "source": [
    "## Add Mac-M1\n",
    "mac_command = command + activate + pip_reqs\n",
    "mac_command += \"pip install tensorflow-macos\\n\"\n",
    "mac_command += \"pip install tensorflow-metal\\n\"\n",
    "print(\"## MAC COMPUTERS - APPLE CHIP:\")\n",
    "print(mac_command)"
   ]
  },
  {
   "cell_type": "code",
   "execution_count": 36,
   "metadata": {},
   "outputs": [
    {
     "name": "stdout",
     "output_type": "stream",
     "text": [
      "conda create -n dojo-env-nlp python=3.9 jupyter  scikit-learn==1.2.2  pandas==1.5.3    scipy==1.10.1  matplotlib==3.7.1  seaborn==0.12.2  plotly==5.13.1    pmdarima==2.0.3  statsmodels==0.13.5  pymysql==1.0.3    sqlalchemy==2.0.9  \"sqlalchemy-utils<=0.41.0\"  conda-forge::shap==0.41.0  conda-forge::imbalanced-learn==0.10.1  lime  xgboost=='1.7.*'  pandas-datareader==0.10.0  beautifulsoup4  lxml  conda-forge::lightgbm==3.3.5    conda-forge::tabulate  numexpr  openpyxl    html5lib  conda-forge::nbdime  conda-forge::xlsxwriter  conda-forge::dataframe_image    nltk==3.8.1  wordcloud==1.8.2.2  gensim==4.3.1 \n",
      "\n",
      "conda activate dojo-env-nlp\n",
      "python -m ipykernel install --user --name dojo-env-nlp --display-name \"Python (dojo-env-nlp)\"\n",
      "\n",
      "\n",
      "pip install jupyter_contrib_nbextensions\n",
      "jupyter contrib nbextension install --user\n",
      "\n",
      "\n",
      "pip install tensorflow\n"
     ]
    }
   ],
   "source": [
    "## Add Mac-intel\n",
    "mac_intel_command = command + activate + pip_reqs\n",
    "mac_intel_command += \"pip install tensorflow\"\n",
    "print(mac_intel_command)"
   ]
  },
  {
   "cell_type": "code",
   "execution_count": null,
   "metadata": {},
   "outputs": [],
   "source": [
    "\n",
    "\n",
    "## add windows - conda\n",
    "windows_conda_cmd = command + \" tensorflow \" + activate + pip_reqs\n",
    "# print(windows_conda_cmd)\n",
    "\n",
    "\n",
    "## add windows -source \n",
    "windows_source_cmd = command + \" tensorflow \" + activate.replace('conda','source')  + pip_reqs\n",
    "# print(windows_source_cmd)"
   ]
  },
  {
   "cell_type": "markdown",
   "metadata": {},
   "source": []
  }
 ],
 "metadata": {
  "kernelspec": {
   "display_name": "Python 3",
   "language": "python",
   "name": "python3"
  },
  "language_info": {
   "codemirror_mode": {
    "name": "ipython",
    "version": 3
   },
   "file_extension": ".py",
   "mimetype": "text/x-python",
   "name": "python",
   "nbconvert_exporter": "python",
   "pygments_lexer": "ipython3",
   "version": "3.8.13"
  },
  "orig_nbformat": 4
 },
 "nbformat": 4,
 "nbformat_minor": 2
}
