{
 "cells": [
  {
   "attachments": {},
   "cell_type": "markdown",
   "metadata": {},
   "source": [
    "# Make Requirements.txt File and Conda Create Commands for Dojo-Env"
   ]
  },
  {
   "attachments": {},
   "cell_type": "markdown",
   "metadata": {},
   "source": [
    "- 04/13/23\n"
   ]
  },
  {
   "attachments": {},
   "cell_type": "markdown",
   "metadata": {},
   "source": [
    "## Requirements"
   ]
  },
  {
   "attachments": {},
   "cell_type": "markdown",
   "metadata": {},
   "source": [
    "- Change the packages included in the code cell below.\n",
    "- it will save the reqs as \"requirements-from-notebook.txt\""
   ]
  },
  {
   "cell_type": "code",
   "execution_count": 138,
   "metadata": {},
   "outputs": [],
   "source": [
    "REQS_FNAME_OUT = \"requirements-from-notebook.txt\"\n",
    "ENV_NAME = 'dojo-env-ts'"
   ]
  },
  {
   "cell_type": "code",
   "execution_count": 139,
   "metadata": {},
   "outputs": [],
   "source": [
    "## MAKING THE REQUIREMENTS FILE\n",
    "requirements = \"\"\"jupyter\n",
    "# tzlocal\n",
    "scikit-learn==1.2.2\n",
    "pandas==1.5.3\n",
    "scipy==1.10.1\n",
    "matplotlib==3.7.1\n",
    "seaborn==0.12.2\n",
    "\n",
    "pmdarima==2.0.3\n",
    "statsmodels==0.13.5\n",
    "pymysql==1.0.3\n",
    "\n",
    "sqlalchemy==2.0.9\n",
    "\"sqlalchemy-utils<=0.41.0\"\n",
    "conda-forge::shap==0.41.0\n",
    "conda-forge::imbalanced-learn==0.10.1\n",
    "conda-forge::lime==0.2.0.1\n",
    "xgboost==\"1.7.*\"\n",
    "pandas-datareader==0.10.0\n",
    "\"beautifulsoup4>4.10.0\"\n",
    "\"lxml>4.8.0\"\n",
    "conda-forge::lightgbm==3.3.5\n",
    "plotly::plotly==5.13.1\n",
    "\n",
    "# missingno==0.5.2\n",
    "conda-forge::tabulate\n",
    "conda-forge::numexpr==2.8.4\n",
    "\"openpyxl>3.0.8\"\n",
    "\n",
    "\"html5lib<1.2\"\n",
    "conda-forge::xlsxwriter\n",
    "conda-forge::dataframe_image\n",
    "\n",
    "nltk==3.8.1\n",
    "wordcloud==1.8.2.2\n",
    "gensim==4.3.1\n",
    "conda-forge::spacy\n",
    "numpy==1.22.4\n",
    "\"\"\"\n",
    "\n",
    "with open(REQS_FNAME_OUT,\"w\") as f:\n",
    "\tf.write(requirements)\n"
   ]
  },
  {
   "cell_type": "code",
   "execution_count": 140,
   "metadata": {},
   "outputs": [
    {
     "data": {
      "text/plain": [
       "['jupyter\\n',\n",
       " '# tzlocal\\n',\n",
       " 'scikit-learn==1.2.2\\n',\n",
       " 'pandas==1.5.3\\n',\n",
       " 'scipy==1.10.1\\n',\n",
       " 'matplotlib==3.7.1\\n',\n",
       " 'seaborn==0.12.2\\n',\n",
       " '\\n',\n",
       " 'pmdarima==2.0.3\\n',\n",
       " 'statsmodels==0.13.5\\n',\n",
       " 'pymysql==1.0.3\\n',\n",
       " '\\n',\n",
       " 'sqlalchemy==2.0.9\\n',\n",
       " '\"sqlalchemy-utils<=0.41.0\"\\n',\n",
       " 'conda-forge::shap==0.41.0\\n',\n",
       " 'conda-forge::imbalanced-learn==0.10.1\\n',\n",
       " 'conda-forge::lime==0.2.0.1\\n',\n",
       " 'xgboost==\"1.7.*\"\\n',\n",
       " 'pandas-datareader==0.10.0\\n',\n",
       " '\"beautifulsoup4>4.10.0\"\\n',\n",
       " '\"lxml>4.8.0\"\\n',\n",
       " 'conda-forge::lightgbm==3.3.5\\n',\n",
       " 'plotly::plotly==5.13.1\\n',\n",
       " '\\n',\n",
       " '# missingno==0.5.2\\n',\n",
       " 'conda-forge::tabulate\\n',\n",
       " 'conda-forge::numexpr==2.8.4\\n',\n",
       " '\"openpyxl>3.0.8\"\\n',\n",
       " '\\n',\n",
       " '\"html5lib<1.2\"\\n',\n",
       " 'conda-forge::xlsxwriter\\n',\n",
       " 'conda-forge::dataframe_image\\n',\n",
       " '\\n',\n",
       " 'nltk==3.8.1\\n',\n",
       " 'wordcloud==1.8.2.2\\n',\n",
       " 'gensim==4.3.1\\n',\n",
       " 'conda-forge::spacy\\n']"
      ]
     },
     "execution_count": 140,
     "metadata": {},
     "output_type": "execute_result"
    }
   ],
   "source": [
    "# SPECIFY FILE WITH REQUIREMENTS\n",
    "# REQS_FILE = 'requirements-py39.txt'\n",
    "REQS_FILE = REQS_FNAME_OUT#\"requirements-04-2023.txt\"\n",
    "with open(REQS_FILE) as f:\n",
    "\tpkgs = f.readlines()\n",
    "pkgs"
   ]
  },
  {
   "cell_type": "code",
   "execution_count": 141,
   "metadata": {},
   "outputs": [
    {
     "data": {
      "text/plain": [
       "'jupyter\\nscikit-learn==1.2.2\\npandas==1.5.3\\nscipy==1.10.1\\nmatplotlib==3.7.1\\nseaborn==0.12.2\\npmdarima==2.0.3\\nstatsmodels==0.13.5\\npymysql==1.0.3\\nsqlalchemy==2.0.9\\n\"sqlalchemy-utils<=0.41.0\"\\nconda-forge::shap==0.41.0\\nconda-forge::imbalanced-learn==0.10.1\\nconda-forge::lime==0.2.0.1\\nxgboost==\"1.7.*\"\\npandas-datareader==0.10.0\\n\"beautifulsoup4>4.10.0\"\\n\"lxml>4.8.0\"\\nconda-forge::lightgbm==3.3.5\\nplotly::plotly==5.13.1\\nconda-forge::tabulate\\nconda-forge::numexpr==2.8.4\\n\"openpyxl>3.0.8\"\\n\"html5lib<1.2\"\\nconda-forge::xlsxwriter\\nconda-forge::dataframe_image\\nnltk==3.8.1\\nwordcloud==1.8.2.2\\ngensim==4.3.1\\nconda-forge::spacy\\nnumpy==1.23.4'"
      ]
     },
     "execution_count": 141,
     "metadata": {},
     "output_type": "execute_result"
    }
   ],
   "source": [
    "# only keep real package names\n",
    "real_pkgs = [p for p in pkgs if p.startswith(\"#\")==False]\n",
    "real_pkgs = [p for p in real_pkgs if p != \"\\n\"]\n",
    "# real_pkgs.append('numpy==1.23.4')\n",
    "\n",
    "\n",
    "final_pkgs = '\\n'.join(real_pkgs)\n",
    "final_pkgs = final_pkgs.replace(\"\\n\\n\",\"\\n\")\n",
    "final_pkgs"
   ]
  },
  {
   "cell_type": "code",
   "execution_count": 142,
   "metadata": {},
   "outputs": [],
   "source": [
    "## make a version without version numbers\n",
    "\n",
    "pkgs_no_versions = []\n",
    "for pkg_ in real_pkgs:\n",
    "\tif '==' in pkg_:\n",
    "\t\tpkg_only = pkg_.split(\"==\")[0]\n",
    "\telif \">=\" in pkg_:\n",
    "\t\tpkg_only = pkg_.split(\">=\")[0]\n",
    "\telif \"<=\" in pkg_:\n",
    "\t\tpkg_only = pkg_.split(\"<=\")[0]\n",
    "\telse:\n",
    "\t\tpkg_only = pkg_\n",
    "\tif '\"' in pkg_only:\n",
    "\t\tpkg_only = pkg_only.replace('\"','')\n",
    "\tpkgs_no_versions.append(pkg_only)\n"
   ]
  },
  {
   "cell_type": "code",
   "execution_count": 143,
   "metadata": {},
   "outputs": [
    {
     "data": {
      "text/plain": [
       "'jupyter\\nscikit-learn\\npandas\\nscipy\\nmatplotlib\\nseaborn\\npmdarima\\nstatsmodels\\npymysql\\nsqlalchemy\\nsqlalchemy-utils\\nconda-forge::shap\\nconda-forge::imbalanced-learn\\nconda-forge::lime\\nxgboost\\npandas-datareader\\nbeautifulsoup4>4.10.0\\nlxml>4.8.0\\nconda-forge::lightgbm\\nplotly::plotly\\nconda-forge::tabulate\\nconda-forge::numexpr\\nopenpyxl>3.0.8\\nhtml5lib<1.2\\nconda-forge::xlsxwriter\\nconda-forge::dataframe_image\\nnltk\\nwordcloud\\ngensim\\nconda-forge::spacy\\nnumpy'"
      ]
     },
     "execution_count": 143,
     "metadata": {},
     "output_type": "execute_result"
    }
   ],
   "source": [
    "final_pkgs_no_vers = '\\n'.join(pkgs_no_versions)\n",
    "final_pkgs_no_vers = final_pkgs_no_vers.replace(\"\\n\\n\",\"\\n\")\n",
    "final_pkgs_no_vers"
   ]
  },
  {
   "cell_type": "code",
   "execution_count": 144,
   "metadata": {},
   "outputs": [
    {
     "name": "stdout",
     "output_type": "stream",
     "text": [
      "conda create -n dojo-env-ts python=3.10 jupyter scikit-learn==1.2.2 pandas==1.5.3 scipy==1.10.1 matplotlib==3.7.1 seaborn==0.12.2 pmdarima==2.0.3 statsmodels==0.13.5 pymysql==1.0.3 sqlalchemy==2.0.9 \"sqlalchemy-utils<=0.41.0\" conda-forge::shap==0.41.0 conda-forge::imbalanced-learn==0.10.1 conda-forge::lime==0.2.0.1 xgboost==\"1.7.*\" pandas-datareader==0.10.0 \"beautifulsoup4>4.10.0\" \"lxml>4.8.0\" conda-forge::lightgbm==3.3.5 plotly::plotly==5.13.1 conda-forge::tabulate conda-forge::numexpr==2.8.4 \"openpyxl>3.0.8\" \"html5lib<1.2\" conda-forge::xlsxwriter conda-forge::dataframe_image nltk==3.8.1 wordcloud==1.8.2.2 gensim==4.3.1 conda-forge::spacy numpy==1.23.4\n"
     ]
    }
   ],
   "source": [
    "# Code from make_conda_create_commands.py\n",
    "import os\n",
    "command =f\"conda create -n {ENV_NAME} python=3.10 \"\n",
    "command+= final_pkgs.replace('\\n',' ')\n",
    "\n",
    "\n",
    "print(command)"
   ]
  },
  {
   "attachments": {},
   "cell_type": "markdown",
   "metadata": {},
   "source": [
    "- Copy and paste the command displayed above into your terminal."
   ]
  },
  {
   "cell_type": "code",
   "execution_count": 145,
   "metadata": {},
   "outputs": [
    {
     "name": "stdout",
     "output_type": "stream",
     "text": [
      "conda create -n dojo-env-ts python=3.10 jupyter scikit-learn pandas scipy matplotlib seaborn pmdarima statsmodels pymysql sqlalchemy sqlalchemy-utils conda-forge::shap conda-forge::imbalanced-learn conda-forge::lime xgboost pandas-datareader beautifulsoup4>4.10.0 lxml>4.8.0 conda-forge::lightgbm plotly::plotly conda-forge::tabulate conda-forge::numexpr openpyxl>3.0.8 html5lib<1.2 conda-forge::xlsxwriter conda-forge::dataframe_image nltk wordcloud gensim conda-forge::spacy numpy\n"
     ]
    }
   ],
   "source": [
    "# CONDA CREATE - NO VERSIONS\n",
    "# Code from make_conda_create_commands.py\n",
    "import os\n",
    "command_no_vers =f\"conda create -n {ENV_NAME} python=3.10 \"\n",
    "command_no_vers+= final_pkgs_no_vers.replace('\\n',' ')\n",
    "print(command_no_vers)"
   ]
  },
  {
   "attachments": {},
   "cell_type": "markdown",
   "metadata": {},
   "source": [
    "### MVP Versions"
   ]
  },
  {
   "cell_type": "code",
   "execution_count": 146,
   "metadata": {},
   "outputs": [
    {
     "name": "stdout",
     "output_type": "stream",
     "text": [
      "conda create -n dojo-env-ts python=3.10 jupyter scikit-learn==1.2.2 pandas==1.5.3 scipy matplotlib==3.7.1 seaborn==0.12.2 pmdarima==2.0.3 statsmodels==0.13.5 pymysql sqlalchemy sqlalchemy-utils conda-forge::shap==0.41.0 conda-forge::imbalanced-learn conda-forge::lime xgboost pandas-datareader==0.10.0 beautifulsoup4>4.10.0 lxml>4.8.0 conda-forge::lightgbm plotly::plotly conda-forge::tabulate conda-forge::numexpr openpyxl>3.0.8 html5lib<1.2 conda-forge::xlsxwriter conda-forge::dataframe_image nltk wordcloud gensim conda-forge::spacy numpy==1.23.4 numpy==1.23.4\n"
     ]
    }
   ],
   "source": [
    "# CONDA CREATE - MVP VERSIONS\n",
    "versions = {\"scikit-learn\":\"==1.2.2\",\n",
    "\"matplotlib\":\"==3.7.1\",\n",
    "'pandas':'==1.5.3',\n",
    "'statsmodels':'==0.13.5',\n",
    "'pmdarima':'==2.0.3',\n",
    "'pandas-datareader':'==0.10.0',\n",
    "'numpy':'==1.23.4',\n",
    "\"conda-forge::shap\":'==0.41.0',\n",
    "'seaborn':'==0.12.2',\n",
    "}\n",
    "\n",
    "split_no_vers = command_no_vers.split()\n",
    "final_mvp_pkgs = []\n",
    "for line in split_no_vers:\n",
    "\t\n",
    "\tif line in versions.keys():\n",
    "\t\tvers_num = versions[line]\n",
    "\t\tfinal_line = line+vers_num\n",
    "\t\t\n",
    "\telse:\n",
    "\t\tfinal_line = line\n",
    "\tfinal_mvp_pkgs.append(final_line)\n",
    "\n",
    "# 05/23/23\n",
    "final_mvp_pkgs.append('numpy==1.23.4')\n",
    "\t\n",
    "command_mvp_versions = ' '.join(final_mvp_pkgs)\n",
    "\t\t\t\n",
    "print(command_mvp_versions)"
   ]
  },
  {
   "cell_type": "code",
   "execution_count": null,
   "metadata": {},
   "outputs": [],
   "source": []
  },
  {
   "cell_type": "code",
   "execution_count": 86,
   "metadata": {},
   "outputs": [
    {
     "name": "stdout",
     "output_type": "stream",
     "text": [
      "\n",
      "\n",
      "conda activate dojo-env-ts\n",
      "python -m ipykernel install --user --name dojo-env-ts --display-name \"Python (dojo-env-ts)\"\n",
      "\n",
      "\n",
      "\n"
     ]
    }
   ],
   "source": [
    "# Conda activate commands\n",
    "activate = f\"\"\"\\n\\nconda activate {ENV_NAME}\n",
    "python -m ipykernel install --user --name {ENV_NAME} --display-name \"Python ({ENV_NAME})\"\\n\\n\n",
    "\"\"\"\n",
    "print(activate)\n"
   ]
  },
  {
   "cell_type": "code",
   "execution_count": 87,
   "metadata": {},
   "outputs": [
    {
     "name": "stdout",
     "output_type": "stream",
     "text": [
      "pip install jupyter_contrib_nbextensions\n",
      "jupyter contrib nbextension install --user\n",
      "\n",
      "\n",
      "\n"
     ]
    }
   ],
   "source": [
    "# nbextensions command\n",
    "pip_reqs = \"\"\"pip install jupyter_contrib_nbextensions\n",
    "jupyter contrib nbextension install --user\\n\\n\n",
    "\"\"\"\n",
    "print(pip_reqs)"
   ]
  },
  {
   "cell_type": "code",
   "execution_count": 31,
   "metadata": {},
   "outputs": [
    {
     "name": "stdout",
     "output_type": "stream",
     "text": [
      "## MAC COMPUTERS - APPLE CHIP:\n",
      "conda create -n dojo-env-ts python=3.10 jupyter scikit-learn==1.2.2 pandas==1.5.3 scipy==1.10.1 matplotlib==3.7.1 seaborn==0.12.2 plotly::plotly==5.13.1 pmdarima==2.0.3 statsmodels==0.13.5 pymysql==1.0.3 sqlalchemy==2.0.9 \"sqlalchemy-utils<=0.41.0\" conda-forge::shap==0.41.0 conda-forge::imbalanced-learn==0.10.1 lime xgboost==\"1.7.*\" pandas-datareader==0.10.0 beautifulsoup4 lxml conda-forge::lightgbm==3.3.5 conda-forge::tabulate numexpr openpyxl html5lib conda-forge::xlsxwriter conda-forge::dataframe_image nltk==3.8.1 wordcloud==1.8.2.2 gensim==4.3.1 spacy \n",
      "\n",
      "conda activate dojo-env-ts\n",
      "python -m ipykernel install --user --name dojo-env-ts --display-name \"Python (dojo-env-ts)\"\n",
      "\n",
      "\n",
      "pip install jupyter_contrib_nbextensions\n",
      "jupyter contrib nbextension install --user\n",
      "\n",
      "\n",
      "pip install tensorflow-macos\n",
      "pip install tensorflow-metal\n",
      "\n"
     ]
    }
   ],
   "source": [
    "## Add Mac-M1\n",
    "mac_command = command + activate + pip_reqs\n",
    "mac_command += \"pip install tensorflow-macos\\n\"\n",
    "mac_command += \"pip install tensorflow-metal\\n\"\n",
    "print(\"## MAC COMPUTERS - APPLE CHIP:\")\n",
    "print(mac_command)"
   ]
  },
  {
   "cell_type": "code",
   "execution_count": 36,
   "metadata": {},
   "outputs": [
    {
     "name": "stdout",
     "output_type": "stream",
     "text": [
      "conda create -n dojo-env-nlp python=3.9 jupyter  scikit-learn==1.2.2  pandas==1.5.3    scipy==1.10.1  matplotlib==3.7.1  seaborn==0.12.2  plotly==5.13.1    pmdarima==2.0.3  statsmodels==0.13.5  pymysql==1.0.3    sqlalchemy==2.0.9  \"sqlalchemy-utils<=0.41.0\"  conda-forge::shap==0.41.0  conda-forge::imbalanced-learn==0.10.1  lime  xgboost=='1.7.*'  pandas-datareader==0.10.0  beautifulsoup4  lxml  conda-forge::lightgbm==3.3.5    conda-forge::tabulate  numexpr  openpyxl    html5lib  conda-forge::nbdime  conda-forge::xlsxwriter  conda-forge::dataframe_image    nltk==3.8.1  wordcloud==1.8.2.2  gensim==4.3.1 \n",
      "\n",
      "conda activate dojo-env-nlp\n",
      "python -m ipykernel install --user --name dojo-env-nlp --display-name \"Python (dojo-env-nlp)\"\n",
      "\n",
      "\n",
      "pip install jupyter_contrib_nbextensions\n",
      "jupyter contrib nbextension install --user\n",
      "\n",
      "\n",
      "pip install tensorflow\n"
     ]
    }
   ],
   "source": [
    "## Add Mac-intel\n",
    "mac_intel_command = command + activate + pip_reqs\n",
    "mac_intel_command += \"pip install tensorflow\"\n",
    "print(mac_intel_command)"
   ]
  },
  {
   "cell_type": "code",
   "execution_count": null,
   "metadata": {},
   "outputs": [],
   "source": [
    "\n",
    "\n",
    "## add windows - conda\n",
    "windows_conda_cmd = command + \" tensorflow \" + activate + pip_reqs\n",
    "# print(windows_conda_cmd)\n",
    "\n",
    "\n",
    "## add windows -source \n",
    "windows_source_cmd = command + \" tensorflow \" + activate.replace('conda','source')  + pip_reqs\n",
    "# print(windows_source_cmd)"
   ]
  },
  {
   "attachments": {},
   "cell_type": "markdown",
   "metadata": {},
   "source": [
    "## Analyst MVP Version"
   ]
  },
  {
   "cell_type": "code",
   "execution_count": null,
   "metadata": {},
   "outputs": [],
   "source": []
  },
  {
   "cell_type": "code",
   "execution_count": null,
   "metadata": {},
   "outputs": [],
   "source": []
  }
 ],
 "metadata": {
  "kernelspec": {
   "display_name": "Python 3",
   "language": "python",
   "name": "python3"
  },
  "language_info": {
   "codemirror_mode": {
    "name": "ipython",
    "version": 3
   },
   "file_extension": ".py",
   "mimetype": "text/x-python",
   "name": "python",
   "nbconvert_exporter": "python",
   "pygments_lexer": "ipython3",
   "version": "3.8.13"
  },
  "orig_nbformat": 4
 },
 "nbformat": 4,
 "nbformat_minor": 2
}
